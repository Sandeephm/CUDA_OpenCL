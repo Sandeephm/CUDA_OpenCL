{
  "nbformat": 4,
  "nbformat_minor": 0,
  "metadata": {
    "colab": {
      "name": "async.ipynb",
      "provenance": [],
      "authorship_tag": "ABX9TyNenjwPjJWShnawqS4Ibx1s",
      "include_colab_link": true
    },
    "kernelspec": {
      "name": "python3",
      "display_name": "Python 3"
    }
  },
  "cells": [
    {
      "cell_type": "markdown",
      "metadata": {
        "id": "view-in-github",
        "colab_type": "text"
      },
      "source": [
        "<a href=\"https://colab.research.google.com/github/Sandeephm/CUDA_OpenCL/blob/master/async.ipynb\" target=\"_parent\"><img src=\"https://colab.research.google.com/assets/colab-badge.svg\" alt=\"Open In Colab\"/></a>"
      ]
    },
    {
      "cell_type": "code",
      "metadata": {
        "id": "HkyITK9bvoCC",
        "colab_type": "code",
        "colab": {
          "base_uri": "https://localhost:8080/",
          "height": 238
        },
        "outputId": "bed86eb0-37af-4df4-943d-9fdfae7cc45b"
      },
      "source": [
        "%%script bash\n",
        "\n",
        "g++ test.cpp -o test -pthread\n",
        "ls -laX\n",
        "./test"
      ],
      "execution_count": null,
      "outputs": [
        {
          "output_type": "stream",
          "text": [
            "total 868\n",
            "drwxr-xr-x 1 root root   4096 Sep 16 16:29 sample_data\n",
            "-rwxr-xr-x 1 root root 430952 Sep 23 07:00 test\n",
            "drwxr-xr-x 1 root root   4096 Sep 23 07:00 .\n",
            "drwxr-xr-x 1 root root   4096 Sep 23 06:54 ..\n",
            "drwxr-xr-x 1 root root   4096 Sep 18 16:15 .config\n",
            "-rw-r--r-- 1 root root   1793 Sep 23 06:55 test.cpp\n",
            "-rwxr-xr-x 1 root root 430952 Sep 23 06:59 a.out\n",
            "The sum is 10000\n",
            "Hello 42\n",
            "world!\n",
            "43\n",
            "53\n"
          ],
          "name": "stdout"
        }
      ]
    },
    {
      "cell_type": "code",
      "metadata": {
        "id": "0zDslxaMv1SP",
        "colab_type": "code",
        "colab": {}
      },
      "source": [
        "!g++ test.cpp -pthread -o test"
      ],
      "execution_count": null,
      "outputs": []
    },
    {
      "cell_type": "code",
      "metadata": {
        "id": "qpJSDNhdwbAJ",
        "colab_type": "code",
        "colab": {
          "base_uri": "https://localhost:8080/",
          "height": 102
        },
        "outputId": "78b8ae11-a366-49f1-854d-7fc6f350b925"
      },
      "source": [
        "!./test"
      ],
      "execution_count": null,
      "outputs": [
        {
          "output_type": "stream",
          "text": [
            "The sum is 10000\n",
            "Hello 42\n",
            "world!\n",
            "43\n",
            "53\n"
          ],
          "name": "stdout"
        }
      ]
    }
  ]
}